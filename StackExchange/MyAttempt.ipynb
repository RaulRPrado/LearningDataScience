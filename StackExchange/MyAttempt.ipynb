{
 "cells": [
  {
   "cell_type": "markdown",
   "id": "777127e5",
   "metadata": {},
   "source": [
    "# Introduction\n",
    "\n",
    "This is a problem from HackerRank.\n",
    "\n",
    "Stack Exchange is an information powerhouse, built on the power of crowdsourcing. It has 105 different topics and each topic has a library of questions which have been asked and answered by knowledgeable members of the StackExchange community. The topics are as diverse as travel, cooking, programming, engineering and photography.\n",
    "\n",
    "We have hand-picked ten different topics (such as Electronics, Mathematics, Photography etc.) from Stack Exchange, and we provide you with a set of questions from these topics.\n",
    "\n",
    "Given a question and an excerpt, your task is to identify which among the 10 topics it belongs to.\n",
    "\n",
    "Getting started with text classification\n",
    "\n",
    "For those getting started with this fascinating domain of text classification, here's a wonderful Youtube video of Professor Dan Jurafsky from Stanford, explaining the Naive Bayes classification algorithm, which you could consider using as a starting point\n",
    "\n",
    "Input Format\n",
    "The first line will be an integer N. N lines follow each line being a valid JSON object. The following fields of raw data are given in json\n",
    "\n",
    "question (string) : The text in the title of the question.\n",
    "excerpt (string) : Excerpt of the question body.\n",
    "topic (string) : The topic under which the question was posted.\n",
    "The input for the program has all the fields but topic which you have to predict as the answer.\n",
    "\n",
    "Constraints\n",
    "1 <= N <= 22000\n",
    "topic is of ascii format\n",
    "question is of UTF-8 format\n",
    "excerpt is of UTF-8 format\n",
    "\n",
    "Output Format\n",
    "For each question that is given as a JSON object, output the topic of the question as predicted by your model separated by newlines.\n",
    "\n",
    "The training file is available here. It is also present in the current directory in which your code is executed.\n",
    "\n",
    "Sample Input\n",
    "12345\n",
    "json_object\n",
    "json_object\n",
    "json_object\n",
    ".\n",
    ".\n",
    ".\n",
    "json_object\n",
    "Sample Output\n",
    "\n",
    "electronics\n",
    "security\n",
    "photo\n",
    ".\n",
    ".\n",
    ".\n",
    "mathematica\n",
    "Sample testcases can be downloaded here for offline training. When you submit your solution to us, you can assume that the training file can be accessed by reading \"training.json\" which will be placed in the same folder as the one in which your program is being executed.\n",
    "\n",
    "Scoring\n",
    "\n",
    "While the contest is going on, the score shown to you will be on the basis of the Sample Test file. The final score will be based on the Hidden Testcase only and there will be no weightage for your score on the Sample Test.\n",
    "\n",
    "Score = MaxScore for the test case * (C/T)\n",
    "Where C = Number of topics identified correctly and\n",
    "T = total number of test JSONs in the input file."
   ]
  },
  {
   "cell_type": "code",
   "execution_count": 2,
   "id": "731940eb",
   "metadata": {},
   "outputs": [],
   "source": [
    "import numpy as np\n",
    "import pandas as pd\n",
    "import matplotlib.pyplot as plt\n",
    "import json"
   ]
  },
  {
   "cell_type": "markdown",
   "id": "3acdf2c2",
   "metadata": {},
   "source": [
    "# Data Preparation"
   ]
  },
  {
   "cell_type": "code",
   "execution_count": 48,
   "id": "5819c9eb",
   "metadata": {},
   "outputs": [],
   "source": [
    "data = {'topic': list(), 'question': list()}\n",
    "with open('training.json', 'r') as file:\n",
    "    \n",
    "    n_data = None\n",
    "    for line in file:\n",
    "\n",
    "        if n_data is None:\n",
    "            n_data = int(line)\n",
    "        else:\n",
    "            d = json.loads(line)\n",
    "            data['topic'].append(d['topic'])\n",
    "            data['question'].append(d['question'])"
   ]
  },
  {
   "cell_type": "code",
   "execution_count": 14,
   "id": "5e5fec8c",
   "metadata": {},
   "outputs": [],
   "source": [
    "labels, counts = np.unique(data['topic'], return_counts=True)"
   ]
  },
  {
   "cell_type": "code",
   "execution_count": 16,
   "id": "c1843434",
   "metadata": {},
   "outputs": [
    {
     "name": "stdout",
     "output_type": "stream",
     "text": [
      "{'android': 2239, 'apple': 2064, 'electronics': 2079, 'gis': 2383, 'mathematica': 1369, 'photo': 1945, 'scifi': 2333, 'security': 1899, 'unix': 1965, 'wordpress': 1943}\n"
     ]
    }
   ],
   "source": [
    "print(dict(zip(labels, counts)))"
   ]
  },
  {
   "cell_type": "code",
   "execution_count": 21,
   "id": "be6d0d8f",
   "metadata": {},
   "outputs": [],
   "source": [
    "from sklearn.preprocessing import OrdinalEncoder"
   ]
  },
  {
   "cell_type": "code",
   "execution_count": 72,
   "id": "9ed5a975",
   "metadata": {},
   "outputs": [],
   "source": [
    "topic_enc = OrdinalEncoder().fit(np.array(data['topic']).reshape(-1, 1))\n",
    "y = topic_enc.transform(np.array(data['topic']).reshape(-1, 1)).ravel()"
   ]
  },
  {
   "cell_type": "code",
   "execution_count": 53,
   "id": "ee8f124f",
   "metadata": {},
   "outputs": [],
   "source": [
    "X = np.array(data['question'])"
   ]
  },
  {
   "cell_type": "code",
   "execution_count": 54,
   "id": "96a737dc",
   "metadata": {},
   "outputs": [],
   "source": [
    "from sklearn.model_selection import train_test_split"
   ]
  },
  {
   "cell_type": "code",
   "execution_count": 73,
   "id": "c4cd1c13",
   "metadata": {},
   "outputs": [],
   "source": [
    "X_train, X_test, y_train, y_test = train_test_split(X, y, test_size=0.2)"
   ]
  },
  {
   "cell_type": "code",
   "execution_count": 74,
   "id": "5824caec",
   "metadata": {},
   "outputs": [],
   "source": [
    "from sklearn.feature_extraction.text import TfidfVectorizer"
   ]
  },
  {
   "cell_type": "code",
   "execution_count": 166,
   "id": "48db1683",
   "metadata": {},
   "outputs": [],
   "source": [
    "vectorizer = TfidfVectorizer(stop_words='english', max_features=3500, decode_error='ignore')"
   ]
  },
  {
   "cell_type": "code",
   "execution_count": 167,
   "id": "093d37e4",
   "metadata": {},
   "outputs": [],
   "source": [
    "X_train_vec = vectorizer.fit_transform(X_train)\n",
    "X_test_vec = vectorizer.transform(X_test)"
   ]
  },
  {
   "cell_type": "code",
   "execution_count": null,
   "id": "4e8eb35d",
   "metadata": {},
   "outputs": [],
   "source": []
  },
  {
   "cell_type": "markdown",
   "id": "294b0802",
   "metadata": {},
   "source": [
    "# Modeling"
   ]
  },
  {
   "cell_type": "markdown",
   "id": "d2274a87",
   "metadata": {},
   "source": [
    "## MLP"
   ]
  },
  {
   "cell_type": "code",
   "execution_count": 127,
   "id": "433fdeca",
   "metadata": {},
   "outputs": [],
   "source": [
    "from sklearn.neural_network import MLPClassifier"
   ]
  },
  {
   "cell_type": "code",
   "execution_count": 128,
   "id": "349d9ff0",
   "metadata": {},
   "outputs": [],
   "source": [
    "clf = MLPClassifier(\n",
    "    hidden_layer_sizes=(200, 20),\n",
    "    batch_size=20,\n",
    "    learning_rate='constant',\n",
    "    learning_rate_init=0.001,\n",
    "    early_stopping=True\n",
    ").fit(X_train_vec, y_train)"
   ]
  },
  {
   "cell_type": "code",
   "execution_count": 129,
   "id": "97bb98e7",
   "metadata": {},
   "outputs": [],
   "source": [
    "y_pred = clf.predict(X_test_vec)"
   ]
  },
  {
   "cell_type": "code",
   "execution_count": 130,
   "id": "940b7a13",
   "metadata": {},
   "outputs": [],
   "source": [
    "from sklearn.metrics import classification_report"
   ]
  },
  {
   "cell_type": "code",
   "execution_count": 131,
   "id": "e87bfd33",
   "metadata": {},
   "outputs": [
    {
     "name": "stdout",
     "output_type": "stream",
     "text": [
      "              precision    recall  f1-score   support\n",
      "\n",
      "         0.0       0.72      0.82      0.77       445\n",
      "         1.0       0.78      0.63      0.70       426\n",
      "         2.0       0.63      0.72      0.67       399\n",
      "         3.0       0.85      0.80      0.83       474\n",
      "         4.0       0.72      0.56      0.63       278\n",
      "         5.0       0.78      0.81      0.80       380\n",
      "         6.0       0.69      0.87      0.77       500\n",
      "         7.0       0.71      0.65      0.68       384\n",
      "         8.0       0.56      0.54      0.55       357\n",
      "         9.0       0.85      0.77      0.81       401\n",
      "\n",
      "    accuracy                           0.73      4044\n",
      "   macro avg       0.73      0.72      0.72      4044\n",
      "weighted avg       0.73      0.73      0.73      4044\n",
      "\n"
     ]
    }
   ],
   "source": [
    "print(classification_report(y_test, y_pred))"
   ]
  },
  {
   "cell_type": "markdown",
   "id": "703e899c",
   "metadata": {},
   "source": [
    "## Naive Bayes"
   ]
  },
  {
   "cell_type": "code",
   "execution_count": 132,
   "id": "b0c67838",
   "metadata": {},
   "outputs": [],
   "source": [
    "from sklearn.naive_bayes import MultinomialNB"
   ]
  },
  {
   "cell_type": "code",
   "execution_count": 168,
   "id": "47a46eb0",
   "metadata": {},
   "outputs": [],
   "source": [
    "clf_nb = MultinomialNB().fit(X_train_vec, y_train)"
   ]
  },
  {
   "cell_type": "code",
   "execution_count": 169,
   "id": "81d9760f",
   "metadata": {},
   "outputs": [],
   "source": [
    "y_pred = clf_nb.predict(X_test_vec)"
   ]
  },
  {
   "cell_type": "code",
   "execution_count": 170,
   "id": "1c01fa6a",
   "metadata": {},
   "outputs": [
    {
     "name": "stdout",
     "output_type": "stream",
     "text": [
      "              precision    recall  f1-score   support\n",
      "\n",
      "         0.0       0.74      0.84      0.79       445\n",
      "         1.0       0.78      0.72      0.75       426\n",
      "         2.0       0.81      0.80      0.81       399\n",
      "         3.0       0.74      0.91      0.81       474\n",
      "         4.0       0.91      0.54      0.68       278\n",
      "         5.0       0.82      0.89      0.86       380\n",
      "         6.0       0.94      0.85      0.89       500\n",
      "         7.0       0.80      0.74      0.77       384\n",
      "         8.0       0.65      0.66      0.66       357\n",
      "         9.0       0.83      0.86      0.85       401\n",
      "\n",
      "    accuracy                           0.80      4044\n",
      "   macro avg       0.80      0.78      0.79      4044\n",
      "weighted avg       0.80      0.80      0.79      4044\n",
      "\n"
     ]
    }
   ],
   "source": [
    "print(classification_report(y_test, y_pred))"
   ]
  },
  {
   "cell_type": "code",
   "execution_count": 172,
   "id": "7caae2cb",
   "metadata": {},
   "outputs": [],
   "source": [
    "y_pred_str = topic_enc.inverse_transform(y_pred.reshape(-1, 1))"
   ]
  },
  {
   "cell_type": "code",
   "execution_count": 173,
   "id": "29209b3f",
   "metadata": {},
   "outputs": [
    {
     "data": {
      "text/plain": [
       "array([['scifi'],\n",
       "       ['scifi'],\n",
       "       ['mathematica'],\n",
       "       ...,\n",
       "       ['android'],\n",
       "       ['photo'],\n",
       "       ['scifi']], dtype='<U11')"
      ]
     },
     "execution_count": 173,
     "metadata": {},
     "output_type": "execute_result"
    }
   ],
   "source": [
    "y_pred_str"
   ]
  },
  {
   "cell_type": "code",
   "execution_count": null,
   "id": "8abc44bd",
   "metadata": {},
   "outputs": [],
   "source": []
  }
 ],
 "metadata": {
  "kernelspec": {
   "display_name": "Python 3 (ipykernel)",
   "language": "python",
   "name": "python3"
  },
  "language_info": {
   "codemirror_mode": {
    "name": "ipython",
    "version": 3
   },
   "file_extension": ".py",
   "mimetype": "text/x-python",
   "name": "python",
   "nbconvert_exporter": "python",
   "pygments_lexer": "ipython3",
   "version": "3.9.7"
  },
  "toc": {
   "base_numbering": 1,
   "nav_menu": {},
   "number_sections": true,
   "sideBar": true,
   "skip_h1_title": false,
   "title_cell": "Table of Contents",
   "title_sidebar": "Contents",
   "toc_cell": false,
   "toc_position": {},
   "toc_section_display": true,
   "toc_window_display": false
  }
 },
 "nbformat": 4,
 "nbformat_minor": 5
}
