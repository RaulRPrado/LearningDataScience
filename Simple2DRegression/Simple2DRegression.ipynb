{
 "cells": [
  {
   "cell_type": "code",
   "execution_count": null,
   "metadata": {},
   "outputs": [],
   "source": [
    "import matplotlib.pyplot as plt\n",
    "import numpy as np\n",
    "import pandas as pd\n",
    "import random"
   ]
  },
  {
   "cell_type": "code",
   "execution_count": null,
   "metadata": {},
   "outputs": [],
   "source": [
    "def calculate_z(x, y, smearing=False):\n",
    "    \n",
    "    z = 80*np.exp(-(x-75)**2/30**2) + 0.3 * y + 0.005*y*y\n",
    "    if smearing:\n",
    "        sig_z = 0.1 + (x + y) / 1000 # Up to 0.3\n",
    "        z = z + np.random.normal(z, sig_z * z)\n",
    "\n",
    "    return z"
   ]
  },
  {
   "cell_type": "markdown",
   "metadata": {},
   "source": [
    "# Inspecting calculate_z by plotting x and y projections"
   ]
  },
  {
   "cell_type": "code",
   "execution_count": null,
   "metadata": {},
   "outputs": [],
   "source": [
    "#  z function\n",
    "data_non_zero = np.random.rand(100) * 100\n",
    "data_zero = np.zeros(100)\n",
    "\n",
    "plt.plot(\n",
    "    data_non_zero,\n",
    "    calculate_z(data_non_zero, data_zero, smearing=True),\n",
    "    linestyle='none',\n",
    "    marker='o',\n",
    "    markersize=3\n",
    ")\n",
    "plt.plot(\n",
    "    data_non_zero,\n",
    "    calculate_z(data_zero, data_non_zero, smearing=True),\n",
    "    linestyle='none',\n",
    "    marker='o',\n",
    "    markersize=3\n",
    ")"
   ]
  },
  {
   "cell_type": "markdown",
   "metadata": {},
   "source": [
    "# Creating a large dataset"
   ]
  },
  {
   "cell_type": "code",
   "execution_count": null,
   "metadata": {},
   "outputs": [],
   "source": [
    "def create_dataset(size):\n",
    "    data_x = np.random.rand(size) * 100\n",
    "    data_y = np.random.rand(size) * 100\n",
    "\n",
    "    data_z = calculate_z(data_x, data_y, smearing=True)\n",
    "\n",
    "    df = pd.DataFrame({'x': data_x, 'y': data_y, 'z': data_z})\n",
    "    return df "
   ]
  },
  {
   "cell_type": "code",
   "execution_count": null,
   "metadata": {},
   "outputs": [],
   "source": [
    "# Creating dataset for plotting\n",
    "data = create_dataset(100000)\n",
    "data"
   ]
  },
  {
   "cell_type": "markdown",
   "metadata": {},
   "source": [
    "### Plotting data"
   ]
  },
  {
   "cell_type": "code",
   "execution_count": null,
   "metadata": {},
   "outputs": [],
   "source": [
    "fig = plt.figure()\n",
    "ax = plt.axes(projection='3d')\n",
    "ax.scatter3D(data['x'], data['y'], data['z'], c='g', s=0.001)"
   ]
  },
  {
   "cell_type": "markdown",
   "metadata": {},
   "source": [
    "## Scaling data"
   ]
  },
  {
   "cell_type": "code",
   "execution_count": null,
   "metadata": {},
   "outputs": [],
   "source": [
    "# from sklearn.preprocessing import StandardScaler\n",
    "# scaler = StandardScaler()  \n",
    "# # Don't cheat - fit only on training data\n",
    "# scaler.fit(X_train)  \n",
    "# X_train = scaler.transform(X_train)  \n",
    "# # apply same transformation to test data\n",
    "# X_test = scaler.transform(X_test)  "
   ]
  },
  {
   "cell_type": "markdown",
   "metadata": {},
   "source": [
    "# MLP Regression"
   ]
  },
  {
   "cell_type": "code",
   "execution_count": null,
   "metadata": {},
   "outputs": [],
   "source": [
    "from sklearn.neural_network import MLPRegressor\n",
    "from sklearn.model_selection import train_test_split\n",
    "from sklearn.preprocessing import StandardScaler\n",
    "from sklearn.metrics import r2_score"
   ]
  },
  {
   "cell_type": "code",
   "execution_count": null,
   "metadata": {},
   "outputs": [],
   "source": [
    "features = np.array(data[['x', 'y']])\n",
    "target = np.array(data[['z']]).reshape(target.size,)\n",
    "features_train, features_test, target_train, target_test = train_test_split(\n",
    "    features,\n",
    "    target,\n",
    "    random_state=1\n",
    ")"
   ]
  },
  {
   "cell_type": "code",
   "execution_count": null,
   "metadata": {},
   "outputs": [],
   "source": [
    "reg = MLPRegressor(\n",
    "    hidden_layer_sizes=(3, 3),\n",
    "    activation=\"relu\",\n",
    "    random_state=1,\n",
    "    max_iter=2000\n",
    ").fit(features_train, target_train)"
   ]
  },
  {
   "cell_type": "code",
   "execution_count": null,
   "metadata": {},
   "outputs": [],
   "source": [
    "pred_test = reg.predict(features_test)"
   ]
  },
  {
   "cell_type": "code",
   "execution_count": null,
   "metadata": {
    "scrolled": true
   },
   "outputs": [],
   "source": [
    "abs_deviation = (pred_test - target_test)\n",
    "rel_deviation = abs_deviation / target_test\n",
    "\n",
    "fig, (ax1, ax2) = plt.subplots(1, 2, figsize=(12, 4))\n",
    "ax1.hist(rel_deviation, bins=20)\n",
    "ax2.hist(abs_deviation, bins=20)"
   ]
  },
  {
   "cell_type": "code",
   "execution_count": null,
   "metadata": {},
   "outputs": [],
   "source": [
    "fig, ((ax1, ax2), (ax3, ax4)) = plt.subplots(2, 2, figsize=(12, 8))\n",
    "ax1.plot(\n",
    "    features_test[:,0],\n",
    "    rel_deviation,\n",
    "    linestyle='none',\n",
    "    marker='o',\n",
    "    markersize=3\n",
    ")\n",
    "ax1.set_ylabel('relative deviation')\n",
    "ax1.set_xlabel('x')\n",
    "\n",
    "ax2.plot(\n",
    "    features_test[:,1],\n",
    "    rel_deviation,\n",
    "    linestyle='none',\n",
    "    marker='o',\n",
    "    markersize=3\n",
    ")\n",
    "ax2.set_ylabel('relative deviation')\n",
    "ax2.set_xlabel('y')\n",
    "\n",
    "ax3.plot(\n",
    "    features_test[:,0],\n",
    "    abs_deviation,\n",
    "    linestyle='none',\n",
    "    marker='o',\n",
    "    markersize=3\n",
    ")\n",
    "ax3.set_ylabel('absolute deviation')\n",
    "ax3.set_xlabel('x')\n",
    "\n",
    "ax4.plot(\n",
    "    features_test[:,1],\n",
    "    abs_deviation,\n",
    "    linestyle='none',\n",
    "    marker='o',\n",
    "    markersize=3\n",
    ")\n",
    "ax4.set_ylabel('absolute deviation')\n",
    "ax4.set_xlabel('y')"
   ]
  },
  {
   "cell_type": "code",
   "execution_count": null,
   "metadata": {},
   "outputs": [],
   "source": [
    "features_test[:,0]\n",
    "fig = plt.figure()\n",
    "ax = plt.axes(projection='3d')\n",
    "ax.scatter3D(features_test[:,0], features_test[:,1], deviation, c='g', s=0.001)"
   ]
  },
  {
   "cell_type": "code",
   "execution_count": null,
   "metadata": {},
   "outputs": [],
   "source": [
    "score = reg.score(features_test, target_test)"
   ]
  },
  {
   "cell_type": "code",
   "execution_count": null,
   "metadata": {},
   "outputs": [],
   "source": []
  }
 ],
 "metadata": {
  "kernelspec": {
   "display_name": "Python 3",
   "language": "python",
   "name": "python3"
  },
  "language_info": {
   "codemirror_mode": {
    "name": "ipython",
    "version": 3
   },
   "file_extension": ".py",
   "mimetype": "text/x-python",
   "name": "python",
   "nbconvert_exporter": "python",
   "pygments_lexer": "ipython3",
   "version": "3.8.5"
  }
 },
 "nbformat": 4,
 "nbformat_minor": 4
}
